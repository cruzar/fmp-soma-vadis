{
 "cells": [
  {
   "cell_type": "markdown",
   "metadata": {},
   "source": [
    "# Função Massa de Probabilidade da soma (e diferença) de Variáveis Aleatórias Discretas Independentes\n",
    "______________________\n",
    "2017 Pedro Cruz up200506513@fc.up.pt"
   ]
  },
  {
   "cell_type": "code",
   "execution_count": 1,
   "metadata": {
    "collapsed": true
   },
   "outputs": [],
   "source": [
    "import numpy as np\n",
    "import matplotlib.pyplot as plt\n",
    "import time\n",
    "plt.style.use('ggplot')\n",
    "np.random.seed(1)"
   ]
  },
  {
   "cell_type": "markdown",
   "metadata": {},
   "source": [
    "## Um exemplo com duas VADs\n",
    "\n",
    "### Método 1\n",
    "\n",
    "Sejam $X_1$ e $X_2$ variáveis aleatórias discretas (VAD) independentes cujo espaço amostral é, respetivamente, $S_{X_1}=\\left\\{0,1,3,4,8,11\\right\\}$ e  $S_{X_2}=\\left\\{1,3,7,9\\right\\}$. As frequências absolutas registadas para cada acontecimento elementar de cada uma das VADs são, na mesma ordenação, $f_{X_1}  = \\left\\{15, 28, 48, 14, 3, 7\\right\\}$ e $f_{X_2} = \\left\\{12, 8, 28, 34\\right\\}$. Assim, as funções massa de probabilidade de cada VAD são dadas por:"
   ]
  },
  {
   "cell_type": "code",
   "execution_count": 2,
   "metadata": {
    "collapsed": false
   },
   "outputs": [
    {
     "name": "stdout",
     "output_type": "stream",
     "text": [
      "P_X1 =  [[ 0.13043478  0.24347826  0.4173913   0.12173913  0.02608696  0.06086957]]\n",
      "P_X2 =  [[ 0.14634146  0.09756098  0.34146341  0.41463415]]\n"
     ]
    }
   ],
   "source": [
    "# Variável Aleatória X1\n",
    "S_X1  = np.array([[0., 1., 3., 4., 8., 11.]])     # Espaço amostral de X1\n",
    "fr_X1 = np.array([[15., 28., 48., 14., 3., 7.]])  # Frequências absolutas de X1\n",
    "P_X1  = fr_X1 / fr_X1.sum()                       # Frequências relativas de X1\n",
    "\n",
    "# Variável Aleatória X2\n",
    "S_X2  = np.array([[1., 3., 7., 9.]])        # Espaço amostral de X2\n",
    "fr_X2 = np.array([[12., 8., 28., 34.]])     # Frequências absolutas de X2\n",
    "P_X2  = fr_X2 / fr_X2.sum()                 # Frequências relativas de X2\n",
    "\n",
    "print \"P_X1 = \", P_X1\n",
    "print \"P_X2 = \", P_X2"
   ]
  },
  {
   "cell_type": "markdown",
   "metadata": {},
   "source": [
    "Para calcular a função de probabilidade conjunta $F\\left(\\mathbf{W}\\right)$ da VAD bidimensional $\\mathbf{W}=(X_1=x, X_2=y)$ podemos fazer,"
   ]
  },
  {
   "cell_type": "code",
   "execution_count": 3,
   "metadata": {
    "collapsed": false
   },
   "outputs": [
    {
     "name": "stdout",
     "output_type": "stream",
     "text": [
      "F_W =  [[ 0.01908802  0.01272534  0.04453871  0.05408271]\n",
      " [ 0.03563097  0.02375398  0.08313892  0.1009544 ]\n",
      " [ 0.06108165  0.0407211   0.14252386  0.17306469]\n",
      " [ 0.01781548  0.01187699  0.04156946  0.0504772 ]\n",
      " [ 0.0038176   0.00254507  0.00890774  0.01081654]\n",
      " [ 0.00890774  0.00593849  0.02078473  0.0252386 ]] \n",
      "\n",
      "F_X1(y) = P_X1 =  [ 0.13043478  0.24347826  0.4173913   0.12173913  0.02608696  0.06086957]\n",
      "F_X2(x) = P_X2 =  [ 0.14634146  0.09756098  0.34146341  0.41463415]\n",
      "F_(X1=3, X2=9) =  0.173064687169\n"
     ]
    }
   ],
   "source": [
    "F_W = P_X2 * P_X1.T\n",
    "\n",
    "print \"F_W = \", F_W, \"\\n\"\n",
    "print \"F_X1(y) = P_X1 = \", F_W.sum(axis=1)\n",
    "print \"F_X2(x) = P_X2 = \", F_W.sum(axis=0)\n",
    "print \"F_(X1=3, X2=9) = \", F_W[2,3]"
   ]
  },
  {
   "cell_type": "markdown",
   "metadata": {},
   "source": [
    "Ou seja,\n",
    "\n",
    "\\begin{array}{rr} \\hline\n",
    "& X_{2}=1 & X_{2}=3 & X_{2}=7 & X_{2}=9 & & F_{X_{1}}\\left(x\\right) \\\\ \\hline\n",
    "X_{1}=0 & 0.01908802 & 0.01272534 & 0.04453871 & 0.05408271 & & 0.13043478 \\\\ \\hline\n",
    "X_{1}=1 & 0.03563097 & 0.02375398 & 0.08313892 & 0.1009544 & & 0.24347826 \\\\ \\hline\n",
    "X_{1}=3 & 0.06108165 & 0.0407211 & 0.14252386 & 0.17306469 & & 0.4173913 \\\\ \\hline\n",
    "X_{1}=4 & 0.01781548 & 0.01187699 & 0.04156946 & 0.0504772 & & 0.12173913 \\\\ \\hline\n",
    "X_{1}=8 & 0.0038176 & 0.00254507 & 0.00890774 & 0.01081654 & & 0.02608696 \\\\ \\hline\n",
    "X_{1}=11 & 0.00890774 & 0.00593849 & 0.02078473 & 0.0252386 & & 0.06086957 \\\\ \\hline\n",
    "& & & & & & \\\\ \\hline\n",
    "F_{X_{2}}\\left(y\\right) & 0.14634146 & 0.09756098 & 0.34146341 & 0.41463415 & \\\\ \\hline\n",
    "\\end{array}"
   ]
  },
  {
   "cell_type": "markdown",
   "metadata": {},
   "source": [
    "Se a cada par ordenado $\\mathbf{W}=(X_1=x, X_2=y)$ associarmos a soma $x+y$ teremos as somas para cada par dadas por,"
   ]
  },
  {
   "cell_type": "code",
   "execution_count": 4,
   "metadata": {
    "collapsed": false
   },
   "outputs": [
    {
     "name": "stdout",
     "output_type": "stream",
     "text": [
      "[[  1.   3.   7.   9.]\n",
      " [  2.   4.   8.  10.]\n",
      " [  4.   6.  10.  12.]\n",
      " [  5.   7.  11.  13.]\n",
      " [  9.  11.  15.  17.]\n",
      " [ 12.  14.  18.  20.]]\n"
     ]
    }
   ],
   "source": [
    "somas = np.tile(S_X2,(len(S_X1[0]),1))  +  S_X1.T\n",
    "\n",
    "print somas"
   ]
  },
  {
   "cell_type": "markdown",
   "metadata": {},
   "source": [
    "Portanto, considerando uma nova variável $Z = X_1 + X_2$, temos o espaço amostral $S_Z= \\left\\{1,2,3,4,5,6,7,8,9,10,11,12,13,14,15,17,18,20\\right\\}$ e a função de probabilidade associada, na mesma ordem, é dada por:"
   ]
  },
  {
   "cell_type": "code",
   "execution_count": 5,
   "metadata": {
    "collapsed": false
   },
   "outputs": [
    {
     "name": "stdout",
     "output_type": "stream",
     "text": [
      "S_Z =  [  1.   2.   3.   4.   5.   6.   7.   8.   9.  10.  11.  12.  13.  14.  15.\n",
      "  17.  18.  20.] \n",
      "\n",
      "P_Z =  [ 0.01908802  0.03563097  0.01272534  0.08483563  0.01781548  0.0407211\n",
      "  0.05641569  0.08313892  0.05790032  0.24347826  0.04411453  0.18197243\n",
      "  0.0504772   0.00593849  0.00890774  0.01081654  0.02078473  0.0252386 ]\n"
     ]
    }
   ],
   "source": [
    "S_Z = np.unique(somas)\n",
    "\n",
    "P_Z = np.array([F_W[somas == i].sum() for i in S_Z])\n",
    "\n",
    "print \"S_Z = \", S_Z, \"\\n\"\n",
    "print \"P_Z = \", P_Z"
   ]
  },
  {
   "cell_type": "markdown",
   "metadata": {},
   "source": [
    "### Método 2\n",
    "\n",
    "Podemos obter $P_Z$ de forma mais direta fazendo a convolução de $P_{X_1}$ com $P_{X_2}$, tendo o cuidado de introduzir os vetores das funções de probabilidade de cada VAD $X_i$ com todos os valores de probabilidade definidos nos inteiros entre $\\left[min\\left(S_{X_i}\\right), max\\left(S_{X_i}\\right)\\right]$\n",
    "\n",
    "$$P\\left(Z=z\\right)=\\sum_{k=-\\infty}^{\\infty}P_{X_{1}}\\left(X_{1}=k\\right)P_{X_{2}}\\left(X_{2}=z-k\\right)$$\n",
    "\n",
    "https://en.wikipedia.org/wiki/Convolution_of_probability_distributions"
   ]
  },
  {
   "cell_type": "code",
   "execution_count": 6,
   "metadata": {
    "collapsed": false
   },
   "outputs": [
    {
     "name": "stdout",
     "output_type": "stream",
     "text": [
      "[[  1.00000000e+00   1.90880161e-02]\n",
      " [  2.00000000e+00   3.56309640e-02]\n",
      " [  3.00000000e+00   1.27253450e-02]\n",
      " [  4.00000000e+00   8.48356299e-02]\n",
      " [  5.00000000e+00   1.78154820e-02]\n",
      " [  6.00000000e+00   4.07211043e-02]\n",
      " [  7.00000000e+00   5.64156936e-02]\n",
      " [  8.00000000e+00   8.31389169e-02]\n",
      " [  9.00000000e+00   5.79003179e-02]\n",
      " [  1.00000000e+01   2.43478258e-01]\n",
      " [  1.10000000e+01   4.41145278e-02]\n",
      " [  1.20000000e+01   1.81972429e-01]\n",
      " [  1.30000000e+01   5.04772007e-02]\n",
      " [  1.40000000e+01   5.93849490e-03]\n",
      " [  1.50000000e+01   8.90774232e-03]\n",
      " [  1.60000000e+01   0.00000000e+00]\n",
      " [  1.70000000e+01   1.08165445e-02]\n",
      " [  1.80000000e+01   2.07847309e-02]\n",
      " [  1.90000000e+01   0.00000000e+00]\n",
      " [  2.00000000e+01   2.52386024e-02]]\n"
     ]
    }
   ],
   "source": [
    "# Espaços amostrais de X1, X2, e Z=X1+X2\n",
    "S_X1b = np.array([0., 1., 2., 3., 4., 5., 6., 7., 8., 9., 10., 11.])\n",
    "S_X2b = np.array([1., 2., 3., 4., 5., 6., 7., 8., 9.])\n",
    "S_Zb = np.arange(S_X1b.min() + S_X2b.min(), S_X1b.max() + S_X2b.max() + 1)\n",
    "\n",
    "# Funções de massa de probabilidade\n",
    "P_X1b = np.array([0.13043478, 0.24347826, 0., 0.4173913, 0.12173913, 0., 0., 0., 0.02608696, 0., 0., 0.06086957])\n",
    "P_X2b = np.array([0.14634146, 0., 0.09756098, 0., 0., 0., 0.34146341, 0., 0.41463415])\n",
    "P_Zb = np.convolve(P_X1b, P_X2b, mode=\"full\")\n",
    "\n",
    "# Coluna 0: valor de Z ; Coluna 1: probabilidade correspondente\n",
    "par_Z_PZ = np.hstack([S_Zb.reshape((len(S_Zb),1)), P_Zb.reshape((len(P_Zb)),1)])\n",
    "\n",
    "print par_Z_PZ"
   ]
  },
  {
   "cell_type": "markdown",
   "metadata": {},
   "source": [
    "## Casos gerais\n",
    "\n",
    "No módulo **somaVADs.py** encontram-se as funções aqui apresentadas. Começamos pelas funções **somaVADs_matrix** e **somaVADs_conv** relativas ao método 1 e 2, respetivamente, generalizadas para o caso geral da soma de *n* VADs independentes."
   ]
  },
  {
   "cell_type": "code",
   "execution_count": 7,
   "metadata": {
    "collapsed": false
   },
   "outputs": [],
   "source": [
    "from fmp_soma_vadis import somaVADs_biv, somaVADs_conv"
   ]
  },
  {
   "cell_type": "markdown",
   "metadata": {},
   "source": [
    "### Exemplo 1 - Soma de duas VADs\n",
    "\n",
    "Usam-se novamente as mesmas VADs já usadas acima para exemplificar a utilização dos métodos e confirmar a obtenção dos mesmos resultados."
   ]
  },
  {
   "cell_type": "code",
   "execution_count": 8,
   "metadata": {
    "collapsed": false
   },
   "outputs": [
    {
     "name": "stdout",
     "output_type": "stream",
     "text": [
      "VAD da soma:\n",
      "[[  1.00000000e+00   1.90880170e-02]\n",
      " [  2.00000000e+00   3.56309650e-02]\n",
      " [  3.00000000e+00   1.27253446e-02]\n",
      " [  4.00000000e+00   8.48356310e-02]\n",
      " [  5.00000000e+00   1.78154825e-02]\n",
      " [  6.00000000e+00   4.07211029e-02]\n",
      " [  7.00000000e+00   5.64156946e-02]\n",
      " [  8.00000000e+00   8.31389183e-02]\n",
      " [  9.00000000e+00   5.79003181e-02]\n",
      " [  1.00000000e+01   2.43478261e-01]\n",
      " [  1.10000000e+01   4.41145281e-02]\n",
      " [  1.20000000e+01   1.81972428e-01]\n",
      " [  1.30000000e+01   5.04772004e-02]\n",
      " [  1.40000000e+01   5.93849417e-03]\n",
      " [  1.50000000e+01   8.90774125e-03]\n",
      " [  1.70000000e+01   1.08165429e-02]\n",
      " [  1.80000000e+01   2.07847296e-02]\n",
      " [  2.00000000e+01   2.52386002e-02]]\n"
     ]
    }
   ],
   "source": [
    "# Construção dos elementos X_i, FMP_i para usar na lista de input\n",
    "VAD1 = np.hstack([S_X1.T, P_X1.T])\n",
    "VAD2 = np.hstack([S_X2.T, P_X2.T])\n",
    "\n",
    "print \"VAD da soma:\\n\", somaVADs_biv([VAD1,VAD2])"
   ]
  },
  {
   "cell_type": "markdown",
   "metadata": {},
   "source": [
    "No caso do uso do método **somaVADs_conv**, temos de nos lembrar que a função de probabilidade de massa deve ser introduzida com todos os valores definidos nos inteiros entre $\\left[min\\left(S_{X_i}\\right), max\\left(S_{X_i}\\right)\\right]$. Usamos as variáveis já definidas atrás quando se introduziu o método 2."
   ]
  },
  {
   "cell_type": "code",
   "execution_count": 9,
   "metadata": {
    "collapsed": false
   },
   "outputs": [
    {
     "name": "stdout",
     "output_type": "stream",
     "text": [
      "VAD da soma:\n",
      "[[  1.00000000e+00   1.90880161e-02]\n",
      " [  2.00000000e+00   3.56309640e-02]\n",
      " [  3.00000000e+00   1.27253450e-02]\n",
      " [  4.00000000e+00   8.48356299e-02]\n",
      " [  5.00000000e+00   1.78154820e-02]\n",
      " [  6.00000000e+00   4.07211043e-02]\n",
      " [  7.00000000e+00   5.64156936e-02]\n",
      " [  8.00000000e+00   8.31389169e-02]\n",
      " [  9.00000000e+00   5.79003179e-02]\n",
      " [  1.00000000e+01   2.43478258e-01]\n",
      " [  1.10000000e+01   4.41145278e-02]\n",
      " [  1.20000000e+01   1.81972429e-01]\n",
      " [  1.30000000e+01   5.04772007e-02]\n",
      " [  1.40000000e+01   5.93849490e-03]\n",
      " [  1.50000000e+01   8.90774232e-03]\n",
      " [  1.60000000e+01   0.00000000e+00]\n",
      " [  1.70000000e+01   1.08165445e-02]\n",
      " [  1.80000000e+01   2.07847309e-02]\n",
      " [  1.90000000e+01   0.00000000e+00]\n",
      " [  2.00000000e+01   2.52386024e-02]]\n"
     ]
    }
   ],
   "source": [
    "# Construção dos elementos X_i, FMP_i para usar na lista de input\n",
    "VAD1b = np.array([S_X1b, P_X1b]).T\n",
    "VAD2b = np.array([S_X2b, P_X2b]).T\n",
    "\n",
    "print \"VAD da soma:\\n\", somaVADs_conv([VAD1b, VAD2b])"
   ]
  },
  {
   "cell_type": "markdown",
   "metadata": {},
   "source": [
    "### Exemplo 2 - Diferença de duas VADs\n",
    "\n",
    "Para calcular a diferença de VADs basta introduzir na função de soma a VAD a subtrair definida de forma adequada. No caso de se usar **somaVADs_biv**, basta simetrizar a coluna do espaço amostral original da VAD a subtrair; no caso da função **somaVADs_conv**, para além de simetrizar esta coluna, é preciso reordenar as linhas do array para que fiquem por ordem crescente. Por exemplo, usando as mesmas duas VADs do *Exemplo 1* para calcular a FMP de $Y=X_1-X_2$ fazemos"
   ]
  },
  {
   "cell_type": "code",
   "execution_count": 10,
   "metadata": {
    "collapsed": false
   },
   "outputs": [
    {
     "name": "stdout",
     "output_type": "stream",
     "text": [
      "Resultado igual com os dois métodos?  True\n"
     ]
    }
   ],
   "source": [
    "# Construção dos elementos X_i, FMP_i para usar na lista de input de *somaVADs_biv*\n",
    "VAD1c = np.hstack([S_X1.T, P_X1.T])\n",
    "VAD2c = np.hstack([-S_X2.T, P_X2.T]) # Note-se o sinal\n",
    "\n",
    "# Construção dos elementos X_i, FMP_i para usar na lista de input de *somaVADs_conv*\n",
    "VAD1d = VAD1b\n",
    "VAD2d = np.flipud(VAD2b.copy())   # Flip vertical\n",
    "VAD2d[:,0] = - VAD2d[:,0]         # Simetrizam-se os valores da col 0\n",
    "\n",
    "Y_res1 = somaVADs_biv([VAD1c, VAD2c])\n",
    "Y_res2 = somaVADs_conv([VAD1d, VAD2d])\n",
    "\n",
    "# Passo desnecessário em geral - usado aqui apenas para retirar do array as linhas onde a FMP é nula\n",
    "# e assim deixar o array na forma em que *somaVADs_biv* devolve para permitir comparar os\n",
    "# resultados com os dois métodos.\n",
    "Y_res2 = Y_res2[Y_res2[:,1] != 0.]\n",
    "\n",
    "print \"Resultado igual com os dois métodos? \", np.allclose(Y_res1, Y_res2)"
   ]
  },
  {
   "cell_type": "markdown",
   "metadata": {},
   "source": [
    "### Exemplo 3 - Soma de várias VADs (com *somaVADs_conv*)\n",
    "Exemplo com 3 VADs e verificação da propriedade comutativa na soma das VADs e na convolução."
   ]
  },
  {
   "cell_type": "code",
   "execution_count": 11,
   "metadata": {
    "collapsed": false
   },
   "outputs": [
    {
     "name": "stdout",
     "output_type": "stream",
     "text": [
      "\n",
      "Soma de três VADs:\n",
      "[[  1.00000000e+00   2.48974119e-03]\n",
      " [  2.00000000e+00   9.29503391e-03]\n",
      " [  3.00000000e+00   1.03351927e-02]\n",
      " [  4.00000000e+00   2.21310334e-02]\n",
      " [  5.00000000e+00   4.01752029e-02]\n",
      " [  6.00000000e+00   1.92982617e-02]\n",
      " [  7.00000000e+00   5.42320985e-02]\n",
      " [  8.00000000e+00   4.23440442e-02]\n",
      " [  9.00000000e+00   4.74581583e-02]\n",
      " [  1.00000000e+01   7.52897767e-02]\n",
      " [  1.10000000e+01   1.06937155e-01]\n",
      " [  1.20000000e+01   7.21397936e-02]\n",
      " [  1.30000000e+01   1.62198347e-01]\n",
      " [  1.40000000e+01   6.29554148e-02]\n",
      " [  1.50000000e+01   9.05675689e-02]\n",
      " [  1.60000000e+01   4.86440135e-02]\n",
      " [  1.70000000e+01   1.40236996e-02]\n",
      " [  1.80000000e+01   1.95712132e-02]\n",
      " [  1.90000000e+01   1.23564950e-02]\n",
      " [  2.00000000e+01   1.60781980e-02]\n",
      " [  2.10000000e+01   3.22744272e-02]\n",
      " [  2.20000000e+01   5.37046468e-03]\n",
      " [  2.30000000e+01   2.18433325e-02]\n",
      " [  2.40000000e+01   6.14505100e-03]\n",
      " [  2.50000000e+01   6.43644394e-04]\n",
      " [  2.60000000e+01   1.08442089e-03]\n",
      " [  2.70000000e+01   0.00000000e+00]\n",
      " [  2.80000000e+01   1.31679682e-03]\n",
      " [  2.90000000e+01   1.26515763e-03]\n",
      " [  3.00000000e+01   0.00000000e+00]\n",
      " [  3.10000000e+01   1.53626288e-03]]\n",
      "\n",
      "Comutatividade:\n",
      "True\n"
     ]
    }
   ],
   "source": [
    "print \"\\nSoma de três VADs:\\n\", somaVADs_conv([VAD1b, VAD2b, VAD1b])\n",
    "\n",
    "print \"\\nComutatividade:\\n\", np.allclose(somaVADs_conv([VAD1b, VAD2b, VAD1b]), somaVADs_conv([VAD1b, VAD1b, VAD2b]))"
   ]
  },
  {
   "cell_type": "markdown",
   "metadata": {},
   "source": [
    "### Exemplo 4 (com *somaVADs_conv*)\n",
    "\n",
    "Somam-se 3 VADs gaussianas $X_{10}$, $X_{11}$ e $X_{12}$ com médias, respetivamente, $0,10,-5$ e variâncias $13,11,9$. Confirma-se a forma gaussiana da VAD resultante $Z=X_{10}+X_{11}+X_{12}$. A FMP de cada VAD é gerada fazendo um histograma normalizado com 119 bins a partir de 100'000 amostras. Estas 3 FMPs são usadas para obter a FMP da soma das VADs."
   ]
  },
  {
   "cell_type": "code",
   "execution_count": 12,
   "metadata": {
    "collapsed": false
   },
   "outputs": [
    {
     "name": "stdout",
     "output_type": "stream",
     "text": [
      "Tempo de execução da soma: 0.00031 seg\n",
      "\n"
     ]
    },
    {
     "data": {
      "image/png": "[encoded data removed]",
      "text/plain": [
       "<matplotlib.figure.Figure at 0x7f7a12f78fd0>"
      ]
     },
     "metadata": {},
     "output_type": "display_data"
    }
   ],
   "source": [
    "namostras = 100000\n",
    "bins_edges = np.arange(-60, 60, 1)\n",
    "\n",
    "# VAD 10\n",
    "mu_X10, sigma_X10 = 0, 13 # média e desvio padrão\n",
    "X10 = np.random.normal(mu_X10, sigma_X10, namostras)\n",
    "hist_X10, edges_X10 = np.histogram(X10, bins=bins_edges, density=True)\n",
    "S_X10 = (edges_X10[:-1] + edges_X10[1:])/2. # usa-se o centro de cada bin como abscissa\n",
    "\n",
    "# VAD 11\n",
    "mu_X11, sigma_X11 = 10, 11 # média e desvio padrão\n",
    "X11 = np.random.normal(mu_X11, sigma_X11, namostras)\n",
    "hist_X11, edges_X11 = np.histogram(X11, bins=bins_edges, density=True)\n",
    "S_X11 = (edges_X11[:-1] + edges_X11[1:])/2.\n",
    "\n",
    "# VAD 12\n",
    "mu_X12, sigma_X12 = -5, 9 # média e desvio padrão\n",
    "X12 = np.random.normal(mu_X12, sigma_X12, namostras)\n",
    "hist_X12, edges_X12 = np.histogram(X12, bins=bins_edges, density=True)\n",
    "S_X12 = (edges_X12[:-1] + edges_X12[1:])/2.\n",
    "\n",
    "# Construção dos elementos X_i, FMP_i para usar na lista de input\n",
    "VAD10 = np.array([S_X10, hist_X10]).T\n",
    "VAD11 = np.array([S_X11, hist_X11]).T\n",
    "VAD12 = np.array([S_X12, hist_X12]).T\n",
    "\n",
    "t1 = time.time()\n",
    "\n",
    "Z_PZ = somaVADs_conv([VAD10, VAD11, VAD12]) # Soma das VADs\n",
    "\n",
    "t2 = time.time()\n",
    "print \"Tempo de execução da soma: %.5f seg\\n\" % (t2-t1)\n",
    "\n",
    "# Plot\n",
    "fig1 = plt.figure(figsize=(14,7))\n",
    "ax1 = fig1.add_subplot(111)\n",
    "ax1.plot(VAD10[:,0], VAD10[:,1], label='FMP-X10')\n",
    "ax1.plot(VAD11[:,0], VAD11[:,1], label='FMP-X11')\n",
    "ax1.plot(VAD12[:,0], VAD12[:,1], label='FMP-X12')\n",
    "ax1.plot(Z_PZ[:,0], Z_PZ[:,1], '--', label='FMP-Z por convolucao')\n",
    "ax1.legend()\n",
    "plt.show()"
   ]
  },
  {
   "cell_type": "markdown",
   "metadata": {},
   "source": [
    "O que foi feito utiliza as **funções de massa de probabilidade** individuais para obter a FMP da soma das VAD's, mas se tivermos acesso às amostras (como é o caso neste exemplo) também podemos **fazer diretamente a sua soma** (com seleção **aleatória**) e chegar ao conjunto de amostras da VAD da soma para depois obter o histograma (e FMP) desta."
   ]
  },
  {
   "cell_type": "code",
   "execution_count": 13,
   "metadata": {
    "collapsed": false
   },
   "outputs": [
    {
     "name": "stdout",
     "output_type": "stream",
     "text": [
      "Mean(X10)+Mean(X11)+Mean(X12)   =  5.09056061754\n",
      "Mean(Z_amostras)                =  5.09056061754\n",
      "\n",
      "Var(X10)+Var(X11)+Var(X12) =  370.19343654\n",
      "Var(Z_amostras)            =  367.572846124\n"
     ]
    },
    {
     "data": {
      "image/png": "[encoded data removed]",
      "text/plain": [
       "<matplotlib.figure.Figure at 0x7f7a34173fd0>"
      ]
     },
     "metadata": {},
     "output_type": "display_data"
    }
   ],
   "source": [
    "# Cada uma das variáveis, X10, X11, X12 é um vetor com 100000 amostras obtidas com amostragem\n",
    "#  aleatória a partir das respetivas funções de probabilidade, portanto obtemos amostras aleatórias\n",
    "#  de Z somando os elementos destes vetores (na mesma ordem).\n",
    "Z_amostras = X10 + X11 + X12\n",
    "\n",
    "print \"Mean(X10)+Mean(X11)+Mean(X12)   = \", X10.mean()+X11.mean()+X12.mean()\n",
    "print \"Mean(Z_amostras)                = \", Z_amostras.mean()\n",
    "print \"\\nVar(X10)+Var(X11)+Var(X12) = \", X10.var()+X11.var()+X12.var()\n",
    "print \"Var(Z_amostras)            = \", Z_amostras.var()\n",
    "\n",
    "# Histograma com as amostras de Z_amostras\n",
    "hist_Z_amostras, edges_Z_amostras = np.histogram(Z_amostras, bins=bins_edges, density=True)\n",
    "S_Z_amostras = (edges_Z_amostras[:-1] + edges_Z_amostras[1:])/2.\n",
    "\n",
    "# Plot\n",
    "fig2 = plt.figure(figsize=(14,7))\n",
    "ax2 = fig2.add_subplot(111)\n",
    "ax2.plot(S_Z_amostras, hist_Z_amostras, label='FMP por soma das amostras')\n",
    "ax2.plot(Z_PZ[:,0], Z_PZ[:,1], '--', label='FMP-Z por convolucao')\n",
    "ax2.legend()\n",
    "plt.show()"
   ]
  },
  {
   "cell_type": "markdown",
   "metadata": {},
   "source": [
    "Obter a FMP desta forma é muito mais simples e direto, mas depende da técnica de amostragem e da semente aleatória utilizadas.\n",
    "\n",
    "O gráfico abaixo pretende apenas ilustrar que se ordenarmos os vetores das amostras de cada VAD antes de os somar obtemos uma FMP diferente para Z, ou seja, deve ter-se o cuidado de garantir que a amostragem é aleatória."
   ]
  },
  {
   "cell_type": "code",
   "execution_count": 14,
   "metadata": {
    "collapsed": false
   },
   "outputs": [
    {
     "data": {
      "image/png": "[encoded data removed]",
      "text/plain": [
       "<matplotlib.figure.Figure at 0x7f7a10401c10>"
      ]
     },
     "metadata": {},
     "output_type": "display_data"
    }
   ],
   "source": [
    "# Soma dos vetores de amostras aleatórias depois de ordenados\n",
    "Z_amostras_b = np.sort(X10) + np.sort(X11) + np.sort(X12)\n",
    "\n",
    "# Histograma com as amostras de Z_amostras\n",
    "hist_Z_amostras_b, edges_Z_amostras_b = np.histogram(Z_amostras_b, bins=bins_edges, density=True)\n",
    "S_Z_amostras_b = (edges_Z_amostras_b[:-1] + edges_Z_amostras_b[1:])/2.\n",
    "\n",
    "# Plot\n",
    "fig3 = plt.figure(figsize=(14,7))\n",
    "ax3 = fig3.add_subplot(111)\n",
    "ax3.plot(S_Z_amostras_b, hist_Z_amostras_b, label='FMP-Z por soma das amostras ORDENADAS')\n",
    "ax3.plot(Z_PZ[:,0], Z_PZ[:,1], '--', label='FMP-Z por convolucao')\n",
    "ax3.legend()\n",
    "plt.show()"
   ]
  },
  {
   "cell_type": "markdown",
   "metadata": {},
   "source": [
    "## Scripts otimizados\n",
    "\n",
    "No módulo **somaVADs.py** encontram-se também dois outros métodos para obter a FMP da soma de VADs a partir das FMPs individuais: **somaVADs_FFT** e **somaVADs_hib**. Estes scripts procuram otimizar o método 2 e simplificar o input de várias FMPs iguais (bastando introduzir uma só vez a VAD a somar, seguida do número $n$ de vezes que será somada).\n",
    "\n",
    "- **somaVADs_FFT** faz todas as convoluções necessárias no domínio das frequências, utilizando FFT;\n",
    "- **somaVADs_hib** é um método híbrido que faz primeiro a convolução de todas as FMPs iguais passando ao domínio das frequências (FFT), calculando a potência $n$ da transformada, e obtendo a Transformada de Fourier inversa; depois prossegue fazendo convolução simples (método 2) com todas as FMPs diferentes assim encontradas."
   ]
  },
  {
   "cell_type": "code",
   "execution_count": 15,
   "metadata": {
    "collapsed": false
   },
   "outputs": [],
   "source": [
    "from fmp_soma_vadis import somaVADs_FFT, somaVADs_hib"
   ]
  },
  {
   "cell_type": "markdown",
   "metadata": {},
   "source": [
    "### Exemplo 5\n",
    "\n",
    "Resolvem-se do novo as somas feitas no *Exemplo 4* com *somaVADs_biv*, *somaVADs_conv*, *somaVADs_FFT* e *somaVADs_hib* para comprovar resultados iguais."
   ]
  },
  {
   "cell_type": "code",
   "execution_count": 16,
   "metadata": {
    "collapsed": false
   },
   "outputs": [
    {
     "name": "stdout",
     "output_type": "stream",
     "text": [
      "Todos iguais ao obtido no Ex.4?  True\n"
     ]
    }
   ],
   "source": [
    "# FMPs do Exemplo 4\n",
    "res_ex2_biv   = somaVADs_biv([VAD10, VAD11, VAD12])\n",
    "res_ex2_conv  = somaVADs_conv([VAD10, VAD11, VAD12])\n",
    "res_ex2_FFT   = somaVADs_FFT([(VAD10,1), (VAD11,1), (VAD12,1)])\n",
    "res_ex2_hib   = somaVADs_hib([(VAD10,1), (VAD11,1), (VAD12,1)])\n",
    "\n",
    "eq1 = np.allclose(res_ex2_biv, res_ex2_conv)\n",
    "eq2 = np.allclose(res_ex2_biv, res_ex2_FFT)\n",
    "eq3 = np.allclose(res_ex2_biv, res_ex2_hib)\n",
    "\n",
    "print \"Todos iguais ao obtido no Ex.4? \", all([eq1, eq2, eq3])"
   ]
  },
  {
   "cell_type": "markdown",
   "metadata": {},
   "source": [
    "### Exemplo 6 - Testes ao tempo de execução de cada rotina"
   ]
  },
  {
   "cell_type": "markdown",
   "metadata": {},
   "source": [
    "**Teste 1**"
   ]
  },
  {
   "cell_type": "code",
   "execution_count": 17,
   "metadata": {
    "collapsed": false
   },
   "outputs": [
    {
     "name": "stdout",
     "output_type": "stream",
     "text": [
      "Todos os resultados iguais?  True\n",
      "Tempo somaVADs_biv   :  117.848539114\n",
      "Tempo somaVADs_conv  :  0.0170018672943\n",
      "Tempo somaVADs_FFT   :  0.00692415237427\n",
      "Tempo somaVADs_hib   :  0.055517911911\n"
     ]
    }
   ],
   "source": [
    "# Usam-se as VADs definidas no Exemplo 4: VAD10, VAD11 e VAD12\n",
    "t1 = time.time()\n",
    "resultado_1 = somaVADs_biv([VAD10,VAD10,VAD10,VAD10,VAD10,VAD10,VAD10,VAD10,VAD10,VAD10,\n",
    "                            VAD11,VAD11,VAD11,VAD11,VAD11,VAD11,VAD11,VAD11,VAD11,VAD11,\n",
    "                            VAD11,VAD11,VAD11,VAD11,VAD11,VAD11,VAD11,VAD11,VAD11,VAD11,\n",
    "                            VAD12,VAD12,VAD12,VAD12,VAD12,VAD12,VAD12,VAD12,VAD12,VAD12,\n",
    "                            VAD12,VAD12,VAD12,VAD12,VAD12,VAD12,VAD12,VAD12,VAD12,VAD12,\n",
    "                            VAD12,VAD12,VAD12,VAD12,VAD12,VAD12,VAD12,VAD12,VAD12,VAD12])\n",
    "t2 = time.time()\n",
    "resultado_2 = somaVADs_conv([VAD10,VAD10,VAD10,VAD10,VAD10,VAD10,VAD10,VAD10,VAD10,VAD10,\n",
    "                             VAD11,VAD11,VAD11,VAD11,VAD11,VAD11,VAD11,VAD11,VAD11,VAD11,\n",
    "                             VAD11,VAD11,VAD11,VAD11,VAD11,VAD11,VAD11,VAD11,VAD11,VAD11,\n",
    "                             VAD12,VAD12,VAD12,VAD12,VAD12,VAD12,VAD12,VAD12,VAD12,VAD12,\n",
    "                             VAD12,VAD12,VAD12,VAD12,VAD12,VAD12,VAD12,VAD12,VAD12,VAD12,\n",
    "                             VAD12,VAD12,VAD12,VAD12,VAD12,VAD12,VAD12,VAD12,VAD12,VAD12])\n",
    "t3 = time.time()\n",
    "resultado_3 = somaVADs_FFT([(VAD10,10), (VAD11,20), (VAD12,30)])\n",
    "t4 = time.time()\n",
    "resultado_4 = somaVADs_hib([(VAD10,10), (VAD11,20), (VAD12,30)])\n",
    "t5 = time.time()\n",
    "\n",
    "eq1 = np.allclose(resultado_1, resultado_2)\n",
    "eq2 = np.allclose(resultado_1, resultado_3)\n",
    "eq3 = np.allclose(resultado_1, resultado_4)\n",
    "\n",
    "print \"Todos os resultados iguais? \", all([eq1, eq2, eq3])\n",
    "print \"Tempo somaVADs_biv   : \", t2-t1\n",
    "print \"Tempo somaVADs_conv  : \", t3-t2\n",
    "print \"Tempo somaVADs_FFT   : \", t4-t3\n",
    "print \"Tempo somaVADs_hib   : \", t5-t4"
   ]
  },
  {
   "cell_type": "markdown",
   "metadata": {},
   "source": [
    "**Teste 2**"
   ]
  },
  {
   "cell_type": "code",
   "execution_count": 18,
   "metadata": {
    "collapsed": false
   },
   "outputs": [
    {
     "name": "stdout",
     "output_type": "stream",
     "text": [
      "Todos os resultados iguais?  True\n",
      "Tempo somaVADs_FFT    :  191.682638884\n",
      "Tempo somaVADs_hib    :  1.77627897263\n"
     ]
    }
   ],
   "source": [
    "# Usam-se as VADs definidas no Exemplo 1: VAD1b e VAD2b, e no Exemplo 4: VAD10, VAD11 e VAD12\n",
    "t1 = time.time()\n",
    "resultado_1 = somaVADs_FFT([(VAD10,330),(VAD11,190),(VAD12,260),(VAD1b,244),(VAD2b,133)])\n",
    "t2 = time.time()\n",
    "resultado_2 = somaVADs_hib([(VAD10,330),(VAD11,190),(VAD12,260),(VAD1b,244),(VAD2b,133)])\n",
    "t3 = time.time()\n",
    "\n",
    "print \"Todos os resultados iguais? \", np.allclose(resultado_1, resultado_2)\n",
    "print \"Tempo somaVADs_FFT    : \", t2-t1\n",
    "print \"Tempo somaVADs_hib    : \", t3-t2"
   ]
  },
  {
   "cell_type": "code",
   "execution_count": null,
   "metadata": {
    "collapsed": true
   },
   "outputs": [],
   "source": []
  }
 ],
 "metadata": {
  "kernelspec": {
   "display_name": "Python 2",
   "language": "python",
   "name": "python2"
  },
  "language_info": {
   "codemirror_mode": {
    "name": "ipython",
    "version": 2
   },
   "file_extension": ".py",
   "mimetype": "text/x-python",
   "name": "python",
   "nbconvert_exporter": "python",
   "pygments_lexer": "ipython2",
   "version": "2.7.13"
  }
 },
 "nbformat": 4,
 "nbformat_minor": 2
}
